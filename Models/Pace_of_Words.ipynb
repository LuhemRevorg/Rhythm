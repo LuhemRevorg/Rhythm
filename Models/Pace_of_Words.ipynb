{
  "nbformat": 4,
  "nbformat_minor": 0,
  "metadata": {
    "colab": {
      "provenance": []
    },
    "kernelspec": {
      "name": "python3",
      "display_name": "Python 3"
    },
    "language_info": {
      "name": "python"
    }
  },
  "cells": [
    {
      "cell_type": "code",
      "source": [
        "!pip install python-dotenv\n",
        "!pip install openai-whisper\n"
      ],
      "metadata": {
        "colab": {
          "base_uri": "https://localhost:8080/"
        },
        "id": "YB9WGNfyDdZ_",
        "outputId": "fbdfb61f-80e5-48bc-9e16-8b45c85f43b6"
      },
      "execution_count": null,
      "outputs": [
        {
          "output_type": "stream",
          "name": "stdout",
          "text": [
            "Requirement already satisfied: python-dotenv in /usr/local/lib/python3.10/dist-packages (1.0.1)\n",
            "Collecting openai-whisper\n",
            "  Downloading openai-whisper-20240927.tar.gz (800 kB)\n",
            "\u001b[2K     \u001b[90m━━━━━━━━━━━━━━━━━━━━━━━━━━━━━━━━━━━━━━━━\u001b[0m \u001b[32m800.0/800.0 kB\u001b[0m \u001b[31m9.2 MB/s\u001b[0m eta \u001b[36m0:00:00\u001b[0m\n",
            "\u001b[?25h  Installing build dependencies ... \u001b[?25l\u001b[?25hdone\n",
            "  Getting requirements to build wheel ... \u001b[?25l\u001b[?25hdone\n",
            "  Preparing metadata (pyproject.toml) ... \u001b[?25l\u001b[?25hdone\n",
            "Requirement already satisfied: numba in /usr/local/lib/python3.10/dist-packages (from openai-whisper) (0.60.0)\n",
            "Requirement already satisfied: numpy in /usr/local/lib/python3.10/dist-packages (from openai-whisper) (1.26.4)\n",
            "Requirement already satisfied: torch in /usr/local/lib/python3.10/dist-packages (from openai-whisper) (2.4.1+cu121)\n",
            "Requirement already satisfied: tqdm in /usr/local/lib/python3.10/dist-packages (from openai-whisper) (4.66.5)\n",
            "Requirement already satisfied: more-itertools in /usr/local/lib/python3.10/dist-packages (from openai-whisper) (10.5.0)\n",
            "Collecting tiktoken (from openai-whisper)\n",
            "  Downloading tiktoken-0.7.0-cp310-cp310-manylinux_2_17_x86_64.manylinux2014_x86_64.whl.metadata (6.6 kB)\n",
            "Collecting triton>=2.0.0 (from openai-whisper)\n",
            "  Downloading triton-3.0.0-1-cp310-cp310-manylinux2014_x86_64.manylinux_2_17_x86_64.whl.metadata (1.3 kB)\n",
            "Requirement already satisfied: filelock in /usr/local/lib/python3.10/dist-packages (from triton>=2.0.0->openai-whisper) (3.16.1)\n",
            "Requirement already satisfied: llvmlite<0.44,>=0.43.0dev0 in /usr/local/lib/python3.10/dist-packages (from numba->openai-whisper) (0.43.0)\n",
            "Requirement already satisfied: regex>=2022.1.18 in /usr/local/lib/python3.10/dist-packages (from tiktoken->openai-whisper) (2024.9.11)\n",
            "Requirement already satisfied: requests>=2.26.0 in /usr/local/lib/python3.10/dist-packages (from tiktoken->openai-whisper) (2.32.3)\n",
            "Requirement already satisfied: typing-extensions>=4.8.0 in /usr/local/lib/python3.10/dist-packages (from torch->openai-whisper) (4.12.2)\n",
            "Requirement already satisfied: sympy in /usr/local/lib/python3.10/dist-packages (from torch->openai-whisper) (1.13.3)\n",
            "Requirement already satisfied: networkx in /usr/local/lib/python3.10/dist-packages (from torch->openai-whisper) (3.3)\n",
            "Requirement already satisfied: jinja2 in /usr/local/lib/python3.10/dist-packages (from torch->openai-whisper) (3.1.4)\n",
            "Requirement already satisfied: fsspec in /usr/local/lib/python3.10/dist-packages (from torch->openai-whisper) (2024.6.1)\n",
            "Requirement already satisfied: charset-normalizer<4,>=2 in /usr/local/lib/python3.10/dist-packages (from requests>=2.26.0->tiktoken->openai-whisper) (3.3.2)\n",
            "Requirement already satisfied: idna<4,>=2.5 in /usr/local/lib/python3.10/dist-packages (from requests>=2.26.0->tiktoken->openai-whisper) (3.10)\n",
            "Requirement already satisfied: urllib3<3,>=1.21.1 in /usr/local/lib/python3.10/dist-packages (from requests>=2.26.0->tiktoken->openai-whisper) (2.2.3)\n",
            "Requirement already satisfied: certifi>=2017.4.17 in /usr/local/lib/python3.10/dist-packages (from requests>=2.26.0->tiktoken->openai-whisper) (2024.8.30)\n",
            "Requirement already satisfied: MarkupSafe>=2.0 in /usr/local/lib/python3.10/dist-packages (from jinja2->torch->openai-whisper) (2.1.5)\n",
            "Requirement already satisfied: mpmath<1.4,>=1.1.0 in /usr/local/lib/python3.10/dist-packages (from sympy->torch->openai-whisper) (1.3.0)\n",
            "Downloading triton-3.0.0-1-cp310-cp310-manylinux2014_x86_64.manylinux_2_17_x86_64.whl (209.4 MB)\n",
            "\u001b[2K   \u001b[90m━━━━━━━━━━━━━━━━━━━━━━━━━━━━━━━━━━━━━━━━\u001b[0m \u001b[32m209.4/209.4 MB\u001b[0m \u001b[31m2.5 MB/s\u001b[0m eta \u001b[36m0:00:00\u001b[0m\n",
            "\u001b[?25hDownloading tiktoken-0.7.0-cp310-cp310-manylinux_2_17_x86_64.manylinux2014_x86_64.whl (1.1 MB)\n",
            "\u001b[2K   \u001b[90m━━━━━━━━━━━━━━━━━━━━━━━━━━━━━━━━━━━━━━━━\u001b[0m \u001b[32m1.1/1.1 MB\u001b[0m \u001b[31m37.3 MB/s\u001b[0m eta \u001b[36m0:00:00\u001b[0m\n",
            "\u001b[?25hBuilding wheels for collected packages: openai-whisper\n",
            "  Building wheel for openai-whisper (pyproject.toml) ... \u001b[?25l\u001b[?25hdone\n",
            "  Created wheel for openai-whisper: filename=openai_whisper-20240927-py3-none-any.whl size=802818 sha256=50cae7d0d7c11506b711d3d7e1febdf9bea461cd5576a95763e8b50803f745ee\n",
            "  Stored in directory: /root/.cache/pip/wheels/1c/d0/fd/81c5b31ba2016ac95f2f8e41d0e7016f2aab2a0bd306a7ab59\n",
            "Successfully built openai-whisper\n",
            "Installing collected packages: triton, tiktoken, openai-whisper\n",
            "Successfully installed openai-whisper-20240927 tiktoken-0.7.0 triton-3.0.0\n"
          ]
        }
      ]
    },
    {
      "cell_type": "markdown",
      "source": [
        "1. Setting Up the Environment"
      ],
      "metadata": {
        "id": "xPG-jiSxDn-S"
      }
    },
    {
      "cell_type": "code",
      "execution_count": null,
      "metadata": {
        "id": "Xjv0e-HzDMgu"
      },
      "outputs": [],
      "source": [
        "import os\n",
        "import sys\n",
        "import re\n",
        "from dotenv import load_dotenv\n",
        "import librosa\n",
        "import numpy as np\n",
        "import pandas as pd\n",
        "from io import StringIO, BytesIO\n",
        "import logging\n",
        "from collections import Counter\n",
        "\n",
        "# Load environment variables from .env file\n",
        "load_dotenv()\n",
        "\n",
        "# Set up logging\n",
        "log_dir = '/app/logs'\n",
        "os.makedirs(log_dir, exist_ok=True)\n",
        "log_file = os.path.join(log_dir, 'speech_pace_logfile.log')\n",
        "\n",
        "LOG_FORMAT = \"%(asctime)s - %(levelname)s - %(message)s\"\n",
        "logging.basicConfig(level=logging.INFO, format=LOG_FORMAT)\n",
        "\n",
        "# Add file handler to save logs to a file\n",
        "file_handler = logging.FileHandler(log_file)\n",
        "file_handler.setFormatter(logging.Formatter(LOG_FORMAT))\n",
        "logger = logging.getLogger()\n",
        "if not logger.handlers:\n",
        "    logger.addHandler(file_handler)"
      ]
    },
    {
      "cell_type": "markdown",
      "source": [
        "2. Defining Speech Pace"
      ],
      "metadata": {
        "id": "pFPEAsF1DkKH"
      }
    },
    {
      "cell_type": "code",
      "source": [
        "def define_pace(zcr):\n",
        "    if zcr < 0.01:\n",
        "        return 'very slow'\n",
        "    elif 0.01 <= zcr < 0.05:\n",
        "        return 'slow'\n",
        "    elif 0.05 <= zcr < 0.1:\n",
        "        return 'medium slow'\n",
        "    elif 0.1 <= zcr < 0.25:\n",
        "        return 'medium'\n",
        "    elif 0.25 <= zcr < 0.35:\n",
        "        return 'medium fast'\n",
        "    elif zcr < 0.5:\n",
        "        return 'fast'\n",
        "    else:\n",
        "        return 'very fast'"
      ],
      "metadata": {
        "id": "8x3yts2qDjrH"
      },
      "execution_count": null,
      "outputs": []
    },
    {
      "cell_type": "markdown",
      "source": [
        "3. Analyzing the Speech Speed"
      ],
      "metadata": {
        "id": "aMLmM_iNDsfD"
      }
    },
    {
      "cell_type": "code",
      "source": [
        "def analyze_speech_speed(audio_data):\n",
        "    frame_length = 2048\n",
        "    hop_length = 512\n",
        "    energy = np.array([\n",
        "        sum(abs(audio_data[i:i + frame_length] ** 2))\n",
        "        for i in range(0, len(audio_data), hop_length)\n",
        "    ])\n",
        "    energy_diff = np.diff(energy)\n",
        "    zcr = np.mean(librosa.feature.zero_crossing_rate(y=energy_diff, frame_length=frame_length, hop_length=hop_length))\n",
        "    return zcr"
      ],
      "metadata": {
        "id": "ZSRW3h6cDuJh"
      },
      "execution_count": null,
      "outputs": []
    },
    {
      "cell_type": "markdown",
      "source": [
        "4. Retrieving Data from Local Storage"
      ],
      "metadata": {
        "id": "ahzOeoATDwuT"
      }
    },
    {
      "cell_type": "code",
      "source": [
        "def read_audio_from_local(audio_file_path):\n",
        "    \"\"\"Read an audio file from the local system.\"\"\"\n",
        "    try:\n",
        "        with open(audio_file_path, 'rb') as audio_file:\n",
        "            return audio_file.read()\n",
        "    except Exception as e:\n",
        "        logger.error(f\"An error occurred while reading the audio file from local storage: {str(e)}\")\n",
        "        return None\n"
      ],
      "metadata": {
        "id": "CkaLQ1JyDver"
      },
      "execution_count": null,
      "outputs": []
    },
    {
      "cell_type": "markdown",
      "source": [
        "5. Transcription Using OpenAI Whisper"
      ],
      "metadata": {
        "id": "aePA3yTmDyqT"
      }
    },
    {
      "cell_type": "code",
      "source": [
        "import whisper\n",
        "\n",
        "def transcribe_audio(audio_path):\n",
        "    model = whisper.load_model(\"base\")\n",
        "    result = model.transcribe(audio_path)\n",
        "    return pd.DataFrame(result['segments'])"
      ],
      "metadata": {
        "id": "MEoh_BhBD0Df"
      },
      "execution_count": null,
      "outputs": []
    },
    {
      "cell_type": "markdown",
      "source": [
        "6. Analyzing and Saving Results"
      ],
      "metadata": {
        "id": "2ssTnk0zD10d"
      }
    },
    {
      "cell_type": "code",
      "source": [
        "import os\n",
        "import pandas as pd\n",
        "import librosa\n",
        "import logging\n",
        "from io import BytesIO\n",
        "\n",
        "# Initialize logger\n",
        "logging.basicConfig(level=logging.INFO)\n",
        "logger = logging.getLogger(__name__)\n",
        "\n",
        "def read_audio_from_local(audio_file_path):\n",
        "    try:\n",
        "        with open(audio_file_path, 'rb') as f:\n",
        "            return f.read()\n",
        "    except Exception as e:\n",
        "        logger.error(f\"Error reading audio file: {str(e)}\")\n",
        "        return None\n",
        "\n",
        "def analyze_speech_speed(segment_audio):\n",
        "    # Calculate ZCR\n",
        "    zcr = librosa.feature.zero_crossing_rate(segment_audio)\n",
        "    return zcr.mean()\n",
        "\n",
        "def define_pace(zcr):\n",
        "    if zcr < 0.01:\n",
        "        return 'very slow'\n",
        "    elif 0.01 <= zcr < 0.05:\n",
        "        return 'slow'\n",
        "    elif 0.05 <= zcr < 0.1:\n",
        "        return 'medium slow'\n",
        "    elif 0.1 <= zcr < 0.25:\n",
        "        return 'medium'\n",
        "    elif 0.25 <= zcr < 0.35:\n",
        "        return 'medium fast'\n",
        "    elif zcr < 0.5:\n",
        "        return 'fast'\n",
        "    else:\n",
        "        return 'very fast'\n",
        "\n",
        "def speech_pace_for_transcription_segments(df_transcript, audio_id, destination, audio_file_path, date):\n",
        "    speech_pace_data = {'start_time': [], 'end_time': [], 'speech_pace': [], 'speaker': [], 'audio_id': [], 'zcr': []}\n",
        "\n",
        "    audio_data = read_audio_from_local(audio_file_path)\n",
        "    if not audio_data:\n",
        "        logger.error(f\"Failed to read audio data for audio_id {audio_id}\")\n",
        "        return\n",
        "\n",
        "    try:\n",
        "        audio, sample_rate = librosa.load(BytesIO(audio_data), sr=None, mono=True)\n",
        "    except Exception as e:\n",
        "        logger.error(f\"An error occurred while loading the audio data for audio_id {audio_id}: {str(e)}\")\n",
        "        return\n",
        "\n",
        "    filtered_df = df_transcript[df_transcript['speaker'] != 'IVR']\n",
        "    for index, row in filtered_df.iterrows():\n",
        "        start_time = row['start_time']\n",
        "        end_time = row['end_time']\n",
        "        speaker = row['speaker']\n",
        "\n",
        "        logger.info(f\"Processing segment {index}: start_time={start_time}, end_time={end_time}, speaker={speaker}\")\n",
        "\n",
        "        try:\n",
        "            start_frame = librosa.time_to_frames(start_time, sr=sample_rate)\n",
        "            end_frame = librosa.time_to_frames(end_time, sr=sample_rate)\n",
        "            segment_audio = audio[start_frame:end_frame]\n",
        "\n",
        "            if len(segment_audio) == 0:\n",
        "                logger.warning(f\"Segment {index} is empty before trimming for audio_id {audio_id}. Skipping this segment.\")\n",
        "                continue\n",
        "\n",
        "            # Trim silent parts from the segment\n",
        "            segment_audio, _ = librosa.effects.trim(segment_audio)\n",
        "\n",
        "            if len(segment_audio) == 0:\n",
        "                logger.warning(f\"Segment {index} is empty after trimming for audio_id {audio_id}. Skipping this segment.\")\n",
        "                continue\n",
        "\n",
        "            zcr_segment = analyze_speech_speed(segment_audio)\n",
        "            pace_segment = define_pace(zcr_segment)\n",
        "\n",
        "            logger.info(f\"Computed ZCR for segment {index}: {zcr_segment}\")\n",
        "\n",
        "            speech_pace_data['start_time'].append(start_time)\n",
        "            speech_pace_data['end_time'].append(end_time)\n",
        "            speech_pace_data['speech_pace'].append(pace_segment)\n",
        "            speech_pace_data['speaker'].append(speaker)\n",
        "            speech_pace_data['audio_id'].append(audio_id)\n",
        "            speech_pace_data['zcr'].append(zcr_segment)\n",
        "        except Exception as e:\n",
        "            logger.error(f\"An error occurred while processing segment {index} for audio_id {audio_id}: {str(e)}\")\n",
        "            continue\n",
        "\n",
        "    df_result = pd.DataFrame(speech_pace_data)\n",
        "    df_result = df_result[df_result['speaker'] != 'IVR']\n",
        "\n",
        "    # Save the result locally\n",
        "    result_file_path = os.path.join(destination, f\"{audio_id}_speech_pace.csv\")\n",
        "    df_result.to_csv(result_file_path, index=False)\n",
        "    logger.info(f\"File successfully saved locally for {audio_id} at {result_file_path}\")\n",
        "\n",
        "# Example data for testing\n",
        "segment_duration = 10  # Duration of each segment in seconds\n",
        "num_segments = 295 // segment_duration  # Number of full segments\n",
        "\n",
        "# Create start and end times based on the number of segments\n",
        "df_transcript = pd.DataFrame({\n",
        "    'start_time': [i * segment_duration for i in range(num_segments)],\n",
        "    'end_time': [(i + 1) * segment_duration for i in range(num_segments)],\n",
        "    'speaker': ['Speaker 1' if i % 2 == 0 else 'Speaker 2' for i in range(num_segments)]\n",
        "})\n",
        "\n",
        "# If the last segment needs to cover the remaining duration, adjust the last row\n",
        "if num_segments * segment_duration < 295:\n",
        "    extra_segment = pd.DataFrame({\n",
        "        'start_time': [num_segments * segment_duration],\n",
        "        'end_time': [295],\n",
        "        'speaker': ['Speaker 1']  # Assign a speaker for the last segment\n",
        "    })\n",
        "    df_transcript = pd.concat([df_transcript, extra_segment], ignore_index=True)\n",
        "\n",
        "# Run the function with actual audio file\n",
        "audio_file_path = \"/content/winston-churchill-the-threat-of-germany.wav\"  # Change this to your actual path\n",
        "audio_id = \"winston_churchill_speech\"\n",
        "destination = \"results\"\n",
        "date = \"2024-09-28\"\n",
        "\n",
        "# Ensure destination directory exists\n",
        "os.makedirs(destination, exist_ok=True)\n",
        "\n",
        "# Call the function\n",
        "speech_pace_for_transcription_segments(df_transcript, audio_id, destination, audio_file_path, date)\n"
      ],
      "metadata": {
        "id": "dcY_IgZmQEZM"
      },
      "execution_count": null,
      "outputs": []
    },
    {
      "cell_type": "markdown",
      "source": [],
      "metadata": {
        "id": "zzLToZPwQEMy"
      }
    },
    {
      "cell_type": "code",
      "source": [
        "def speech_pace_for_transcription_segments(df_transcript, audio_id, destination, audio_file_path, date):\n",
        "    speech_pace_data = {'start_time': [], 'end_time': [], 'speech_pace': [], 'speaker': [], 'audio_id': [], 'zcr': []}\n",
        "    audio_data = read_audio_from_local(audio_file_path)\n",
        "    if not audio_data:\n",
        "        logger.error(f\"Failed to read audio data for audio_id {audio_id}\")\n",
        "        return\n",
        "\n",
        "    try:\n",
        "        audio, sample_rate = librosa.load(BytesIO(audio_data), sr=None, mono=True)\n",
        "    except Exception as e:\n",
        "        logger.error(f\"An error occurred while loading the audio data for audio_id {audio_id}: {str(e)}\")\n",
        "        return\n",
        "\n",
        "    filtered_df = df_transcript[df_transcript['speaker'] != 'IVR']\n",
        "    for index, row in filtered_df.iterrows():\n",
        "        start_time = row['start_time']\n",
        "        end_time = row['end_time']\n",
        "        speaker = row['speaker']\n",
        "\n",
        "        try:\n",
        "            start_frame = librosa.time_to_frames(start_time, sr=sample_rate)\n",
        "            end_frame = librosa.time_to_frames(end_time, sr=sample_rate)\n",
        "            segment_audio = audio[start_frame:end_frame]\n",
        "\n",
        "            if len(segment_audio) == 0:\n",
        "                raise ValueError(\"Segment audio is empty\")\n",
        "\n",
        "            # Trim silent parts from the segment\n",
        "            segment_audio, _ = librosa.effects.trim(segment_audio)\n",
        "\n",
        "            zcr_segment = analyze_speech_speed(segment_audio)\n",
        "            pace_segment = define_pace(zcr_segment)\n",
        "\n",
        "            speech_pace_data['start_time'].append(start_time)\n",
        "            speech_pace_data['end_time'].append(end_time)\n",
        "            speech_pace_data['speech_pace'].append(pace_segment)\n",
        "            speech_pace_data['speaker'].append(speaker)\n",
        "            speech_pace_data['audio_id'].append(audio_id)\n",
        "            speech_pace_data['zcr'].append(zcr_segment)\n",
        "        except Exception as e:\n",
        "            logger.error(f\"An error occurred while processing segment {index} for audio_id {audio_id}: {str(e)}\")\n",
        "            continue\n",
        "\n",
        "    df_result = pd.DataFrame(speech_pace_data)\n",
        "    df_result = df_result[df_result['speaker'] != 'IVR']\n",
        "\n",
        "    # Save the result locally\n",
        "    result_file_path = os.path.join(\"results\", f\"{audio_id}_speech_pace.csv\")\n",
        "    df_result.to_csv(result_file_path, index=False)\n",
        "    logger.info(f\"File successfully saved locally for {audio_id} at {result_file_path}\")"
      ],
      "metadata": {
        "id": "3HcI-jpTD1gj"
      },
      "execution_count": null,
      "outputs": []
    },
    {
      "cell_type": "code",
      "source": [
        "# make custom\n",
        "segment_duration = 10  # Duration of each segment in seconds\n",
        "num_segments = 295 // segment_duration  # Number of full segments\n",
        "\n",
        "# Create start and end times based on the number of segments\n",
        "df_transcript = pd.DataFrame({\n",
        "    'start_time': [i * segment_duration for i in range(num_segments)],\n",
        "    'end_time': [(i + 1) * segment_duration for i in range(num_segments)],\n",
        "    'speaker': ['Speaker 1' if i % 2 == 0 else 'Speaker 2' for i in range(num_segments)]\n",
        "})\n",
        "\n",
        "# If the last segment needs to cover the remaining duration, adjust the last row\n",
        "if num_segments * segment_duration < 295:\n",
        "    extra_segment = pd.DataFrame({\n",
        "        'start_time': [num_segments * segment_duration],\n",
        "        'end_time': [295],\n",
        "        'speaker': ['Speaker 1']  # Assign a speaker for the last segment\n",
        "    })\n",
        "    df_transcript = pd.concat([df_transcript, extra_segment], ignore_index=True)\n",
        "\n",
        "# Run the function with actual audio file\n",
        "audio_file_path = \"/content/winston-churchill-the-threat-of-germany.wav\"\n",
        "audio_id = \"winston_churchill_speech\"\n",
        "destination = \"results\"\n",
        "date = \"2024-09-28\"\n",
        "os.makedirs(destination, exist_ok=True)\n",
        "\n",
        "\n",
        "# Call the function\n",
        "speech_pace_for_transcription_segments(df_transcript, audio_id, destination, audio_file_path, date)"
      ],
      "metadata": {
        "id": "bsTgBK0nJGo6"
      },
      "execution_count": null,
      "outputs": []
    }
  ]
}